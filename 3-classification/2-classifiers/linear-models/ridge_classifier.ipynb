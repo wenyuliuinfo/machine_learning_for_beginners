{
 "cells": [
  {
   "cell_type": "markdown",
   "metadata": {},
   "source": [
    "## Classification using Ridge Classifier\n",
    "This is an example showing how scikit-learn `RidgeClassifier` can be used to classify documents by topics using a Bag of Words approach.\n",
    "\n",
    "### Load and vectorize text dataset\n",
    "We define a function to load data form the 20 newsgroups text dataset, which comprises around 18,000 newsgroups posts on 20 topics split in two subsets: one for training and the other one for testing.\n",
    "\n",
    "1. Load dataset"
   ]
  },
  {
   "cell_type": "code",
   "execution_count": 2,
   "metadata": {},
   "outputs": [],
   "source": [
    "# Import libraries\n",
    "from time import time\n",
    "from sklearn.datasets import fetch_20newsgroups\n",
    "from sklearn.feature_extraction.text import TfidfVectorizer\n",
    "\n",
    "# Define text categories\n",
    "categories = [\n",
    "    \"alt.atheism\",\n",
    "    \"talk.religion.misc\",\n",
    "    \"comp.graphics\",\n",
    "    \"sci.space\",\n",
    "]\n",
    "\n",
    "# Function to get the document size\n",
    "def size_mb(docs):\n",
    "    return sum(len(s.encode(\"utf-8\")) for s in docs) / 1e6\n",
    "\n",
    "# Load and vectorize the 20 newsgroups dataset\n",
    "def load_dataset(verbose=False, remove=()):\n",
    "    data_train = fetch_20newsgroups(\n",
    "        subset=\"train\",\n",
    "        categories=categories,\n",
    "        shuffle=True,\n",
    "        random_state=42,\n",
    "        remove=remove,\n",
    "    )\n",
    "    data_test = fetch_20newsgroups(\n",
    "        subset=\"test\",\n",
    "        categories=categories,\n",
    "        shuffle=True,\n",
    "        random_state=42,\n",
    "        remove=remove,\n",
    "    )\n",
    "\n",
    "    # Order of labels in 'target_names' can be different from 'categories'\n",
    "    target_names = data_train[\"target_name\"]\n",
    "\n",
    "    # Split target to training and testing sets\n",
    "    y_train, y_test = data_train[\"target\"], data_test[\"target\"]\n",
    "\n",
    "    # Extract features from training data using a sparse vectorizer\n",
    "    t0 = time()\n",
    "    vectorizer = TfidfVectorizer(\n",
    "        sublinear_tf=True, max_df=0.5, min_df=5, stop_words=\"english\"\n",
    "    )\n",
    "    X_train = vectorizer.fit_transform(data_train[\"data\"])\n",
    "    duration_train = time() - t0\n",
    "\n",
    "    # Extract features from testing data using the same vectorizer\n",
    "    t0 = time()\n",
    "    X_test = vectorizer.fit_transform(data_test[\"data\"])\n",
    "    duration_test = time() - t0\n",
    "    feature_names = vectorizer.get_feature_names_out()\n",
    "\n",
    "    return X_train, X_test, y_train, y_test, feature_names, target_names\n",
    "\n"
   ]
  },
  {
   "cell_type": "markdown",
   "metadata": {},
   "source": [
    "### Train the classifier using the dataset\n",
    "`RidgeClassifier` is a linear classification model that uses the mean squared error on {-1, 1} encoded targets, one for each possible class. \n",
    "\n",
    "2. Train the ridge classifier"
   ]
  },
  {
   "cell_type": "code",
   "execution_count": null,
   "metadata": {},
   "outputs": [],
   "source": [
    "# Import library\n",
    "from sklearn.linear_model import RidgeClassifier\n",
    "\n",
    "X_train, X_test, y_train, y_test, feature_names, target_names = load_dataset(verbose=False)\n",
    "\n",
    "# Train the ridge classifier\n",
    "clf = RidgeClassifier(tol=1e-2, solver=\"sparse_cg\")\n",
    "clf.fit(X_train, y_train)\n",
    "predictions = clf.predict(X_test)"
   ]
  },
  {
   "cell_type": "markdown",
   "metadata": {},
   "source": [
    "3. Plot the confusion matrix\n",
    "\n",
    "Find if there is a pattern in the classification errors."
   ]
  },
  {
   "cell_type": "code",
   "execution_count": null,
   "metadata": {},
   "outputs": [],
   "source": [
    "# Import libraries\n",
    "import matplotlib.pyplot as plt\n",
    "from sklearn.metrics import ConfusionMatrixDisplay\n",
    "\n",
    "# Create a plot\n",
    "fig, ax = plt.subplots()\n",
    "ConfusionMatrixDisplay.from_predictions(y_test, predictions, ax=ax)\n",
    "ax.xaxis.set_ticklabels(target_names)\n",
    "ax.yaxis.set_ticklabels(target_names)\n",
    "ax.set_title(\n",
    "    f\"Confusion Matrix for {clf.__class__.__name__}\\non the original documents\"\n",
    ")"
   ]
  }
 ],
 "metadata": {
  "kernelspec": {
   "display_name": "Python 3",
   "language": "python",
   "name": "python3"
  },
  "language_info": {
   "codemirror_mode": {
    "name": "ipython",
    "version": 3
   },
   "file_extension": ".py",
   "mimetype": "text/x-python",
   "name": "python",
   "nbconvert_exporter": "python",
   "pygments_lexer": "ipython3",
   "version": "3.9.12"
  }
 },
 "nbformat": 4,
 "nbformat_minor": 2
}
